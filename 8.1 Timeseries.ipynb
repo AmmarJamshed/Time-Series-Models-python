{
 "cells": [
  {
   "cell_type": "markdown",
   "metadata": {},
   "source": [
    "# Timeseries\n",
    "## Instructions:\n",
    "* Go through the notebook and complete the tasks. \n",
    "* Make sure you understand the examples given. If you need help, refer to the Essential readings or the documentation link provided, or go to the Topic 8 discussion forum. \n",
    "* Save your notebooks when you are done.\n",
    "\n",
    "This notebook introduces you to the Pandas library, which is useful for when dealing with timeseries in python. For further details on Pandas, have a read through the Getting Started guide: https://pandas.pydata.org/pandas-docs/stable/. The '10 minutes to Pandas' guide provides a good introduction to the library: https://pandas.pydata.org/pandas-docs/stable/getting_started/10min.html\n",
    "\n",
    "\n",
    "**Task 1:**\n",
    "\n",
    "Load in some time series data (you can use the artificial 'sit_stand_walk.csv' and plot it alongside it's ground truth\n"
   ]
  },
  {
   "cell_type": "code",
   "execution_count": null,
   "metadata": {},
   "outputs": [],
   "source": [
    "# You just need to run this cell\n",
    "\n",
    "import numpy as np\n",
    "import pandas as pd\n",
    "import matplotlib.pyplot as plt\n",
    "\n",
    "data = pd.read_csv('sit_stand_walk.csv')\n",
    "# The original data is sampled at 5Hz (period of 200ms). Let's say it starts on 1-1-2020 at 10am\n",
    "data.index = pd.bdate_range(start='01-01-2020 10:00:00', periods=len(data), freq='200L')\n",
    "\n",
    "series = data['acc_y']\n",
    "ground = data['ground']\n",
    "classes = { c:i for i,c in enumerate(np.unique(ground))} \n",
    "print('class map: %s' % classes)\n",
    "# replace character ground truth labels with integers\n",
    "ground.replace(classes, inplace=True)\n",
    "\n",
    "series.plot(linestyle='-', color='k')\n",
    "plt.legend()\n",
    "plt.show()\n"
   ]
  },
  {
   "cell_type": "markdown",
   "metadata": {},
   "source": [
    "**Task 2:**\n",
    "Create a sliding (rolling) window over the data to extract features like mean and standard deviation. Use the pandas function, ```rolling``` and experiment with different window lengths.\n"
   ]
  },
  {
   "cell_type": "code",
   "execution_count": null,
   "metadata": {},
   "outputs": [],
   "source": [
    "F = pd.DataFrame()\n",
    "wnd_samples = 10 # samples\n",
    "F['mean'] = series.rolling(window=wnd_samples).mean()\n",
    "#F['std'] = # Your code here\n",
    "\n",
    "# We might need to fill in any NaN values left over from the rolling window (use .fillna(..))\n",
    "# Your code here\n",
    "\n",
    "F.plot()\n",
    "plt.show()"
   ]
  },
  {
   "cell_type": "markdown",
   "metadata": {},
   "source": [
    "**Task 3:** \n",
    "Use these features to build a simple classifier (e.g. using ```sklearn```). Split the dataset in half to simulate separate training and test sets. But do not randomly mix the data, as the sequencing information is important.\n",
    "\n"
   ]
  },
  {
   "cell_type": "code",
   "execution_count": null,
   "metadata": {},
   "outputs": [],
   "source": [
    "from sklearn.tree import DecisionTreeClassifier\n",
    "from sklearn.metrics import classification_report\n",
    "\n",
    "# create indices for test data and train data -- cast these into timestamps\n",
    "test_idx = F.index[np.arange(0,int(0.5*len(F)))]\n",
    "\n",
    "# ...Your code here\n",
    "\n",
    "# Create a simple decision tree, and fit the training data to it\n",
    "\n",
    "# ...Your code here\n",
    "\n",
    "# Generate predictions and plot them against the ground truth\n",
    "\n",
    "# ...Your code here\n",
    "\n",
    "# Also generate precision and recall values\n",
    "\n",
    "# ... Your code here"
   ]
  },
  {
   "cell_type": "markdown",
   "metadata": {},
   "source": [
    "**Task 4:** Now go back to the original data (without features extracted) and attempt to train a similar classifier directly on that data (rememeber to split the test and training sets). Plot the prediction output alongside the ground truth. And also run a precision-recall evaluation. "
   ]
  },
  {
   "cell_type": "code",
   "execution_count": null,
   "metadata": {},
   "outputs": [],
   "source": [
    "\n",
    "X_original_test = pd.DataFrame(series[test_idx])\n",
    "X_original_train = pd.DataFrame(series[train_idx])\n",
    "\n",
    "# ... Your code here\n"
   ]
  },
  {
   "cell_type": "markdown",
   "metadata": {},
   "source": [
    "**Task 5:**\n",
    "Compare the results from both of your classifiers -- the one using the original raw data, and the one using the sliding-window based features. What do you notice about the differences in precision-recall? And if you plot the outputs, what do you notice about the temporal distribution of the errors? Which method would seem more appropriate for a classifier that aims to robustly detect sitting, standing, and walking? \n",
    "\n",
    "Use the discussion forum for this topic discuss your answers to this. "
   ]
  },
  {
   "cell_type": "markdown",
   "metadata": {},
   "source": []
  }
 ],
 "metadata": {
  "kernelspec": {
   "display_name": "Python 3",
   "language": "python",
   "name": "python3"
  },
  "language_info": {
   "codemirror_mode": {
    "name": "ipython",
    "version": 3
   },
   "file_extension": ".py",
   "mimetype": "text/x-python",
   "name": "python",
   "nbconvert_exporter": "python",
   "pygments_lexer": "ipython3",
   "version": "3.7.1"
  }
 },
 "nbformat": 4,
 "nbformat_minor": 2
}
